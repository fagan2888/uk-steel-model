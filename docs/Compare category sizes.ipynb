{
 "cells": [
  {
   "cell_type": "code",
   "execution_count": 12,
   "metadata": {},
   "outputs": [],
   "source": [
    "import pandas as pd\n",
    "import datapackage\n",
    "\n",
    "def load_dataframe(filename, resource):\n",
    "    \"\"\"Load one table from a datapackage.\"\"\"\n",
    "    package = datapackage.Package(filename)\n",
    "    r = package.get_resource(resource)\n",
    "    if r is None:\n",
    "        raise KeyError('No resource found: %s' % resource)\n",
    "    return pd.DataFrame(r.read(), columns=r.headers).set_index(['year', 'product']).loc[2016]"
   ]
  },
  {
   "cell_type": "code",
   "execution_count": 16,
   "metadata": {},
   "outputs": [],
   "source": [
    "WORLDSTEEL_DP = '../../worldsteel-statistics/datapackage.json'\n",
    "ISSB_DP = '../../issb-statistics/datapackage.json'\n",
    "\n",
    "worldsteel = load_dataframe(WORLDSTEEL_DP, 'production')['mass']\n",
    "\n",
    "issb = \\\n",
    "    load_dataframe(ISSB_DP, 'production_ecsc')['mass'] \\\n",
    "    .add(load_dataframe(ISSB_DP, 'production_derived')['mass'], fill_value=0) \\\n",
    "    .sub(load_dataframe(ISSB_DP, 'production_ecsc_for_derived')['mass'], fill_value=0)"
   ]
  },
  {
   "cell_type": "code",
   "execution_count": 17,
   "metadata": {},
   "outputs": [
    {
     "data": {
      "text/plain": [
       "product\n",
       "Crude steel production                     7635\n",
       "Hot rolled long products                   2940\n",
       "Hot rolled flat products                   3743\n",
       "Railway track material                      191\n",
       "Heavy sections (>=80mm)                     846\n",
       "Light sections (<80mm)                        0\n",
       "Concrete reinforced bars                    340\n",
       "Other hot rolled bars                       637\n",
       "Wire rod                                    926\n",
       "Hot rolled plate (>=3mm)                    434\n",
       "Hot rolled coil, sheet and strip (<3mm)    3310\n",
       "Electrical sheet and strip                   55\n",
       "Tinmill products                            390\n",
       "Other metal coated sheet and strip          799\n",
       "Non-metalic coated sheet and strip          342\n",
       "Tubular products                              0\n",
       "Name: mass, dtype: int64"
      ]
     },
     "execution_count": 17,
     "metadata": {},
     "output_type": "execute_result"
    }
   ],
   "source": [
    "worldsteel"
   ]
  },
  {
   "cell_type": "code",
   "execution_count": 18,
   "metadata": {},
   "outputs": [
    {
     "data": {
      "text/plain": [
       "product\n",
       "Bright bars                                                                    120.1\n",
       "Cold rolled narrow strip                                                        31.2\n",
       "Heavy sections, sheet piling, rails and rolled accessories                    1130.3\n",
       "Hot rolled bars in lengths                                        335.61428429817605\n",
       "Ingots, blooms, billets and slabs                               686.6163659793814432\n",
       "Light sections                                                188.649137589214908796\n",
       "Plates in coil and in lengths                                     1098.7701823949246\n",
       "Rods and bars for reinforcement                                711.39827517842981759\n",
       "Rods in coil                                                      683.40918913560666\n",
       "Rounds and squares for tubes                                                     0.0\n",
       "Sheets, coated and uncoated                                      2059.74256542426645\n",
       "Tubes and pipes                                                                576.2\n",
       "Name: mass, dtype: object"
      ]
     },
     "execution_count": 18,
     "metadata": {},
     "output_type": "execute_result"
    }
   ],
   "source": [
    "issb"
   ]
  },
  {
   "cell_type": "code",
   "execution_count": 19,
   "metadata": {},
   "outputs": [
    {
     "data": {
      "text/plain": [
       "Decimal('7621.999999999999929586')"
      ]
     },
     "execution_count": 19,
     "metadata": {},
     "output_type": "execute_result"
    }
   ],
   "source": [
    "issb.sum()"
   ]
  },
  {
   "cell_type": "code",
   "execution_count": 24,
   "metadata": {},
   "outputs": [
    {
     "data": {
      "text/plain": [
       "(product\n",
       " Railway track material      191\n",
       " Heavy sections (>=80mm)     846\n",
       " Light sections (<80mm)        0\n",
       " Concrete reinforced bars    340\n",
       " Other hot rolled bars       637\n",
       " Wire rod                    926\n",
       " Name: mass, dtype: int64, 2940)"
      ]
     },
     "execution_count": 24,
     "metadata": {},
     "output_type": "execute_result"
    }
   ],
   "source": [
    "worldsteel.iloc[3:9], worldsteel.iloc[3:9].sum()"
   ]
  },
  {
   "cell_type": "code",
   "execution_count": 27,
   "metadata": {},
   "outputs": [
    {
     "data": {
      "text/plain": [
       "(product\n",
       " Hot rolled plate (>=3mm)                    434\n",
       " Hot rolled coil, sheet and strip (<3mm)    3310\n",
       " Name: mass, dtype: int64, 3744)"
      ]
     },
     "execution_count": 27,
     "metadata": {},
     "output_type": "execute_result"
    }
   ],
   "source": [
    "worldsteel.iloc[9:11], worldsteel.iloc[9:11].sum()"
   ]
  },
  {
   "cell_type": "code",
   "execution_count": 28,
   "metadata": {},
   "outputs": [
    {
     "data": {
      "text/plain": [
       "(product\n",
       " Electrical sheet and strip             55\n",
       " Tinmill products                      390\n",
       " Other metal coated sheet and strip    799\n",
       " Non-metalic coated sheet and strip    342\n",
       " Tubular products                        0\n",
       " Name: mass, dtype: int64, 1586)"
      ]
     },
     "execution_count": 28,
     "metadata": {},
     "output_type": "execute_result"
    }
   ],
   "source": [
    "worldsteel.iloc[11:], worldsteel.iloc[11:].sum()"
   ]
  },
  {
   "cell_type": "code",
   "execution_count": null,
   "metadata": {},
   "outputs": [],
   "source": []
  }
 ],
 "metadata": {
  "kernelspec": {
   "display_name": "pipenv",
   "language": "python",
   "name": "pipenv"
  },
  "language_info": {
   "codemirror_mode": {
    "name": "ipython",
    "version": 3
   },
   "file_extension": ".py",
   "mimetype": "text/x-python",
   "name": "python",
   "nbconvert_exporter": "python",
   "pygments_lexer": "ipython3",
   "version": "3.6.6"
  }
 },
 "nbformat": 4,
 "nbformat_minor": 2
}
