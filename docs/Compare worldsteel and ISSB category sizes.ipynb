{
 "cells": [
  {
   "cell_type": "code",
   "execution_count": 1,
   "metadata": {},
   "outputs": [],
   "source": [
    "import pandas as pd\n",
    "import datapackage\n",
    "\n",
    "def load_dataframe(filename, resource):\n",
    "    \"\"\"Load one table from a datapackage.\"\"\"\n",
    "    package = datapackage.Package(filename)\n",
    "    r = package.get_resource(resource)\n",
    "    if r is None:\n",
    "        raise KeyError('No resource found: %s' % resource)\n",
    "    return pd.DataFrame(r.read(), columns=r.headers).set_index(['year', 'product']).loc[2016]"
   ]
  },
  {
   "cell_type": "code",
   "execution_count": 2,
   "metadata": {},
   "outputs": [],
   "source": [
    "WORLDSTEEL_DP = '../build/input_data/uk-worldsteel-statistics-v1.0.0.zip'\n",
    "ISSB_DP = '../build/input_data/uk-issb-statistics-v1.0.0.zip'\n",
    "\n",
    "worldsteel = load_dataframe(WORLDSTEEL_DP, 'production')['mass']\n",
    "issb = load_dataframe(ISSB_DP, 'production')['mass']"
   ]
  },
  {
   "cell_type": "code",
   "execution_count": 3,
   "metadata": {},
   "outputs": [
    {
     "data": {
      "text/plain": [
       "product\n",
       "Crude steel production                     7635\n",
       "Hot rolled long products                   2940\n",
       "Hot rolled flat products                   3743\n",
       "Railway track material                      191\n",
       "Heavy sections (>=80mm)                     846\n",
       "Light sections (<80mm)                        0\n",
       "Concrete reinforced bars                    340\n",
       "Other hot rolled bars                       637\n",
       "Wire rod                                    926\n",
       "Hot rolled plate (>=3mm)                    434\n",
       "Hot rolled coil, sheet and strip (<3mm)    3310\n",
       "Electrical sheet and strip                   55\n",
       "Tinmill products                            390\n",
       "Other metal coated sheet and strip          799\n",
       "Non-metalic coated sheet and strip          342\n",
       "Tubular products                              0\n",
       "Name: mass, dtype: int64"
      ]
     },
     "execution_count": 3,
     "metadata": {},
     "output_type": "execute_result"
    }
   ],
   "source": [
    "worldsteel"
   ]
  },
  {
   "cell_type": "code",
   "execution_count": 4,
   "metadata": {},
   "outputs": [
    {
     "data": {
      "text/plain": [
       "product\n",
       "Heavy sections, sheet piling, rails and rolled accessories    1130.3\n",
       "Hot rolled bars in lengths                                     335.6\n",
       "Ingots, blooms, billets and slabs                              686.6\n",
       "Ingots, rounds and squares for tubes                             0.0\n",
       "Light sections                                                 188.6\n",
       "Plates in coil and in lengths                                 1098.8\n",
       "Rods and bars for reinforcement                                711.4\n",
       "Rods in coil                                                   683.4\n",
       "Sheets, coated and uncoated                                   2059.8\n",
       "Bright bars                                                    120.1\n",
       "Cold rolled narrow strip                                        31.2\n",
       "Tubes and pipes                                                576.2\n",
       "Name: mass, dtype: object"
      ]
     },
     "execution_count": 4,
     "metadata": {},
     "output_type": "execute_result"
    }
   ],
   "source": [
    "issb"
   ]
  },
  {
   "cell_type": "code",
   "execution_count": 5,
   "metadata": {},
   "outputs": [
    {
     "data": {
      "text/plain": [
       "Decimal('7622.0')"
      ]
     },
     "execution_count": 5,
     "metadata": {},
     "output_type": "execute_result"
    }
   ],
   "source": [
    "issb.sum()"
   ]
  },
  {
   "cell_type": "code",
   "execution_count": 6,
   "metadata": {},
   "outputs": [
    {
     "data": {
      "text/plain": [
       "(product\n",
       " Railway track material      191\n",
       " Heavy sections (>=80mm)     846\n",
       " Light sections (<80mm)        0\n",
       " Concrete reinforced bars    340\n",
       " Other hot rolled bars       637\n",
       " Wire rod                    926\n",
       " Name: mass, dtype: int64, 2940)"
      ]
     },
     "execution_count": 6,
     "metadata": {},
     "output_type": "execute_result"
    }
   ],
   "source": [
    "worldsteel.iloc[3:9], worldsteel.iloc[3:9].sum()"
   ]
  },
  {
   "cell_type": "code",
   "execution_count": 7,
   "metadata": {},
   "outputs": [
    {
     "data": {
      "text/plain": [
       "(product\n",
       " Hot rolled plate (>=3mm)                    434\n",
       " Hot rolled coil, sheet and strip (<3mm)    3310\n",
       " Name: mass, dtype: int64, 3744)"
      ]
     },
     "execution_count": 7,
     "metadata": {},
     "output_type": "execute_result"
    }
   ],
   "source": [
    "worldsteel.iloc[9:11], worldsteel.iloc[9:11].sum()"
   ]
  },
  {
   "cell_type": "code",
   "execution_count": 8,
   "metadata": {},
   "outputs": [
    {
     "data": {
      "text/plain": [
       "(product\n",
       " Electrical sheet and strip             55\n",
       " Tinmill products                      390\n",
       " Other metal coated sheet and strip    799\n",
       " Non-metalic coated sheet and strip    342\n",
       " Tubular products                        0\n",
       " Name: mass, dtype: int64, 1586)"
      ]
     },
     "execution_count": 8,
     "metadata": {},
     "output_type": "execute_result"
    }
   ],
   "source": [
    "worldsteel.iloc[11:], worldsteel.iloc[11:].sum()"
   ]
  },
  {
   "cell_type": "code",
   "execution_count": null,
   "metadata": {},
   "outputs": [],
   "source": []
  }
 ],
 "metadata": {
  "kernelspec": {
   "display_name": "pipenv",
   "language": "python",
   "name": "pipenv"
  },
  "language_info": {
   "codemirror_mode": {
    "name": "ipython",
    "version": 3
   },
   "file_extension": ".py",
   "mimetype": "text/x-python",
   "name": "python",
   "nbconvert_exporter": "python",
   "pygments_lexer": "ipython3",
   "version": "3.6.7"
  }
 },
 "nbformat": 4,
 "nbformat_minor": 2
}
