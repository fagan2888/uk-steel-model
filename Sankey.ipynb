{
 "cells": [
  {
   "cell_type": "markdown",
   "metadata": {},
   "source": [
    "Draw a Sankey diagram!\n",
    "\n",
    "Load the data created by the script `scripts/assemble_flows.py`:"
   ]
  },
  {
   "cell_type": "code",
   "execution_count": null,
   "metadata": {},
   "outputs": [],
   "source": [
    "import pandas as pd\n",
    "flows = pd.read_csv('data/flows.csv')"
   ]
  },
  {
   "cell_type": "markdown",
   "metadata": {},
   "source": [
    "Define the Sankey diagram structure and draw:"
   ]
  },
  {
   "cell_type": "code",
   "execution_count": null,
   "metadata": {},
   "outputs": [],
   "source": [
    "from palettable.cartocolors.qualitative import Prism_10, Antique_10\n",
    "C = Prism_10.hex_colors[1:]"
   ]
  },
  {
   "cell_type": "code",
   "execution_count": null,
   "metadata": {},
   "outputs": [],
   "source": [
    "from floweaver import *\n",
    "\n",
    "sectors = ['4', '5', '6', '7', '8', '9', '10', '11', '12', '13', '14', '15a', '15b', '16', '17', '18', '19', '20']\n",
    "\n",
    "manufac_and_products = [\n",
    "    (sector, ['sector %s' % sector, 'products %s' % sector])\n",
    "    for sector in sectors\n",
    "]\n",
    "\n",
    "semis = ['Hot rolled', 'Plate', 'Cold rolled', 'Hot dipped galvanised',\n",
    "       'Electro coated', 'Organic coated', 'Tin plate', 'Tubes and pipes',\n",
    "       'Railway track material', 'Sheet piling and rolled accessories',\n",
    "        'Heavy sections', 'Light sections',\n",
    "       'Hot rolled bars in lengths', 'Bright bars', 'Reinforcing bar', 'Rods']\n",
    "\n",
    "products = [('Structural', ['Structural steelwork and building and civil engineering']),\n",
    "       'Mechanical engineering', 'Vehicles',\n",
    "       'Electrical engineering', 'Shipbuilding',\n",
    "       'Boilers, drums and other vessels','Metal goods', \n",
    "       'Other industries']\n",
    "\n",
    "psemi = Partition.Simple('material', semis)\n",
    "pprod = Partition.Simple('material', sectors)\n",
    "\n",
    "pmat = Partition.Simple('material', [\n",
    "    ('Flat', ['Hot rolled', 'Plate', 'Cold rolled', 'Hot dipped galvanised',\n",
    "              'Electro coated', 'Organic coated', 'Tin plate', 'Tubes and pipes']),\n",
    "    ('Long', ['Railway track material', 'Sheet piling and rolled accessories', 'Heavy sections', 'Light sections',\n",
    "              'Hot rolled bars in lengths', 'Bright bars', 'Reinforcing bar', 'Rods']),\n",
    "    ('Metal goods', ['4', '5', '6', '7']),\n",
    "    ('Elec. eng', ['8']),\n",
    "    ('Mech. eng', ['9', '10', '11', '12', '13']),\n",
    "    ('Construction', ['14']),\n",
    "    ('Transport', ['15a', '15b', '16']),\n",
    "    ('Energy/water', ['17', '18', '19']),\n",
    "    ('Other', ['20']),\n",
    "    'component',\n",
    "    ('scrap', ['scrap %s' % p for p in semis])\n",
    "])\n",
    "\n",
    "nodes = {\n",
    "    'prod': ProcessGroup(['uk_production'], title='UK production'),\n",
    "    'semi': ProcessGroup(['uk_intermediate'], psemi, title='Semi'),\n",
    "    'manuf': ProcessGroup([yy for xx in manufac_and_products for yy in xx[1]],\n",
    "                          Partition.Simple('process', manufac_and_products), title='Manufacturing'),\n",
    "    #'products': ProcessGroup(['products'], pprod, title='Products'),\n",
    "    'demand': ProcessGroup(['uk_demand'], pprod, title='UK demand'),\n",
    "    \n",
    "    'scrap': ProcessGroup(['scrap'], title='Manufacturing scrap'),\n",
    "    \n",
    "    'semi_export': ProcessGroup(['exports'], title='Export of semis'),\n",
    "    'semi_import': ProcessGroup(['imports'], title='Import'),\n",
    "    'comp_import': ProcessGroup(['component_imports'], title='Import components'),\n",
    "    'prod_export': ProcessGroup(['product_exports'], title='Export of goods'),\n",
    "    'prod_import': ProcessGroup(['product_imports'], title='Import of steel-containing goods'),\n",
    "    'imbalance': ProcessGroup(['imbalance'])\n",
    "}\n",
    "\n",
    "ordering = [\n",
    "    [['semi_import'], ['prod'], []],\n",
    "    [['comp_import', 'imbalance'], ['semi'], ['semi_export']],\n",
    "    [['prod_import'], ['manuf']],\n",
    "    [[], ['demand'], ['prod_export', 'scrap']],\n",
    "]\n",
    "\n",
    "bundles = [\n",
    "    Bundle('prod', 'semi'),\n",
    "    Bundle('prod', 'semi_export'),\n",
    "    Bundle('semi_import', 'semi'),\n",
    "    Bundle('semi', 'manuf'),\n",
    "    \n",
    "    Bundle('comp_import', 'manuf'),\n",
    "    #Bundle('manuf', 'products'),\n",
    "    Bundle('manuf', 'scrap'),\n",
    "    Bundle('manuf', 'demand'),\n",
    "    Bundle('manuf', 'prod_export'),\n",
    "    Bundle('prod_import', 'demand'),\n",
    "#     Bundle('products', 'demand'),\n",
    "#     Bundle('products', 'prod_export'),\n",
    "    \n",
    "    #Bundle('imbalance', 'products'),\n",
    "    Bundle('imbalance', 'manuf'),\n",
    "]\n",
    "\n",
    "palette = {k: '#999' for k in pmat.labels}\n",
    "palette['Flat'] = Antique_10.hex_colors[0]\n",
    "palette['Long'] = Antique_10.hex_colors[2]\n",
    "palette['Metal goods'] = C[0]\n",
    "palette['Elec. eng'] = C[1]\n",
    "palette['Mech. eng'] = C[2]\n",
    "palette['Construction'] = C[3]\n",
    "palette['Transport'] = C[4]\n",
    "palette['Energy/water'] = C[5]\n",
    "palette['Other'] = C[6]\n",
    "palette['component'] = Antique_10.hex_colors[1]\n",
    "\n",
    "sdd = SankeyDefinition(nodes, bundles, ordering, flow_partition=pmat)\n",
    "weave(sdd, flows.query('year == \"2009\"'), palette=palette) \\\n",
    ".to_widget(width=1200, height=1000, debugging=True, align_link_types=False)\n",
    "#.auto_save_svg('figures/sankey_2016.svg')"
   ]
  },
  {
   "cell_type": "code",
   "execution_count": null,
   "metadata": {},
   "outputs": [],
   "source": [
    "for year in range(2009, 2017):\n",
    "    weave(sdd, flows.query('year == @year'), palette=palette) \\\n",
    "          .to_json('figures/sankey_%d.json' % year)"
   ]
  },
  {
   "cell_type": "code",
   "execution_count": null,
   "metadata": {},
   "outputs": [],
   "source": []
  }
 ],
 "metadata": {
  "kernelspec": {
   "display_name": "Python 3",
   "language": "python",
   "name": "python3"
  },
  "language_info": {
   "codemirror_mode": {
    "name": "ipython",
    "version": 3
   },
   "file_extension": ".py",
   "mimetype": "text/x-python",
   "name": "python",
   "nbconvert_exporter": "python",
   "pygments_lexer": "ipython3",
   "version": "3.6.6"
  }
 },
 "nbformat": 4,
 "nbformat_minor": 2
}
