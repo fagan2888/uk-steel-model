{
 "cells": [
  {
   "cell_type": "markdown",
   "metadata": {},
   "source": [
    "Draw a Sankey diagram!\n",
    "\n",
    "Load the data created by the script `scripts/assemble_flows.py`:"
   ]
  },
  {
   "cell_type": "code",
   "execution_count": null,
   "metadata": {},
   "outputs": [],
   "source": [
    "import pandas as pd\n",
    "flows = pd.read_csv('data/flows.csv')"
   ]
  },
  {
   "cell_type": "markdown",
   "metadata": {},
   "source": [
    "Define the Sankey diagram structure and draw:"
   ]
  },
  {
   "cell_type": "code",
   "execution_count": null,
   "metadata": {},
   "outputs": [],
   "source": [
    "from floweaver import *\n",
    "\n",
    "sectors = ['Construction', 'Mechanical Engineering', 'Automotive', 'Electrical',\n",
    "       'Other Transport', 'Tubes', 'Metal Goods', 'Other sectors']\n",
    "\n",
    "semis = ['Hot rolled', 'Plate', 'Cold rolled', 'Hot dipped galvanised',\n",
    "       'Electro coated', 'Organic coated', 'Tin plate', 'Tubes and pipes',\n",
    "       'Railway track material', 'Heavy sections', 'Light sections',\n",
    "       'Hot rolled bars in lengths', 'Bright bars', 'Reinforcing bar', 'Rods']\n",
    "\n",
    "products = [('Structural', ['Structural steelwork and building and civil engineering']),\n",
    "       'Mechanical engineering', 'Vehicles',\n",
    "       'Electrical engineering', 'Shipbuilding',\n",
    "       'Boilers, drums and other vessels','Metal goods', \n",
    "       'Other industries']\n",
    "\n",
    "psemi = Partition.Simple('material', semis)\n",
    "pprod = Partition.Simple('material', products)\n",
    "\n",
    "pmat = Partition.Simple('material', [\n",
    "    ('Flat', ['Hot rolled', 'Plate', 'Cold rolled', 'Hot dipped galvanised',\n",
    "              'Electro coated', 'Organic coated', 'Tin plate', 'Tubes and pipes']),\n",
    "    ('Long', ['Railway track material', 'Heavy sections', 'Light sections',\n",
    "              'Hot rolled bars in lengths', 'Bright bars', 'Reinforcing bar', 'Rods']),\n",
    "    'Mechanical engineering', 'Electrical engineering', 'Shipbuilding',\n",
    "       'Vehicles',\n",
    "       ('Structural', ['Structural steelwork and building and civil engineering']),\n",
    "       'Metal goods', 'Boilers, drums and other vessels',\n",
    "       'Other industries'\n",
    "])\n",
    "\n",
    "nodes = {\n",
    "    'prod': ProcessGroup(['uk_production'], title='UK production'),\n",
    "    'semi': ProcessGroup(['uk_intermediate'], psemi, title='Semi'),\n",
    "    'manuf': ProcessGroup(sectors, Partition.Simple('process', sectors), title='Manufacturing'),\n",
    "    'products': ProcessGroup(['products'], pprod, title='Products'),\n",
    "    'demand': ProcessGroup(['uk_demand'], title='UK demand'),\n",
    "    \n",
    "    'scrap': ProcessGroup(['scrap'], title='Manufacturing scrap'),\n",
    "    \n",
    "    'semi_export': ProcessGroup(['exports'], title='Export of semi-finished products'),\n",
    "    'semi_import': ProcessGroup(['imports'], title='Import'),\n",
    "    'prod_export': ProcessGroup(['product_exports'], title='Export of goods'),\n",
    "    'prod_import': ProcessGroup(['product_imports'], title='Import of steel-containing goods'),\n",
    "}\n",
    "\n",
    "ordering = [\n",
    "    [['semi_import'], ['prod']],\n",
    "    [['semi_export'], ['semi']],\n",
    "    [[], ['manuf']],\n",
    "    [['prod_import'], ['products'], ['scrap']],\n",
    "    [['prod_export'], ['demand']],\n",
    "]\n",
    "\n",
    "bundles = [\n",
    "    Bundle('prod', 'semi'),\n",
    "    Bundle('prod', 'semi_export'),\n",
    "    Bundle('semi_import', 'semi'),\n",
    "    Bundle('semi', 'manuf'),\n",
    "    \n",
    "    Bundle('manuf', 'products'),\n",
    "    Bundle('manuf', 'scrap'),\n",
    "    Bundle('manuf', 'prod_export'),\n",
    "    Bundle('prod_import', 'demand'),\n",
    "    Bundle('products', 'demand'),\n",
    "    Bundle('products', 'prod_export'),\n",
    "]\n",
    "\n",
    "sdd = SankeyDefinition(nodes, bundles, ordering, flow_partition=pmat)\n",
    "weave(sdd, flows).to_widget(width=1200, height=800, debugging=False, align_link_types=False) \\\n",
    ".auto_save_svg('figures/sankey_2016.svg')"
   ]
  },
  {
   "cell_type": "code",
   "execution_count": null,
   "metadata": {},
   "outputs": [],
   "source": []
  }
 ],
 "metadata": {
  "kernelspec": {
   "display_name": "Python 3",
   "language": "python",
   "name": "python3"
  },
  "language_info": {
   "codemirror_mode": {
    "name": "ipython",
    "version": 3
   },
   "file_extension": ".py",
   "mimetype": "text/x-python",
   "name": "python",
   "nbconvert_exporter": "python",
   "pygments_lexer": "ipython3",
   "version": "3.6.3"
  }
 },
 "nbformat": 4,
 "nbformat_minor": 2
}
